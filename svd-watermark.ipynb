{
 "cells": [
  {
   "cell_type": "code",
   "execution_count": 1,
   "metadata": {},
   "outputs": [],
   "source": [
    "import cv2\n",
    "import numpy as np\n",
    "import matplotlib.pyplot as plt\n",
    "from matplotlib.image import imread\n",
    "from tabulate import tabulate\n",
    "from scipy.linalg import svd"
   ]
  },
  {
   "cell_type": "code",
   "execution_count": 38,
   "metadata": {},
   "outputs": [],
   "source": [
    "def show(image):\n",
    "    \"\"\"Show an image\"\"\"\n",
    "    img = plt.imshow(image)\n",
    "    img.set_cmap(\"gray\")\n",
    "    plt.axis(\"off\")\n",
    "    plt.show()\n",
    "\n",
    "\n",
    "def to_gray(image):\n",
    "    \"\"\"Convert a four channel image to gray\"\"\"\n",
    "    return cv2.cvtColor(image, cv2.COLOR_RGBA2GRAY)\n",
    "\n",
    "\n",
    "def printf(matrix, decimals=1):\n",
    "    \"\"\"Print a formatted matrix\"\"\"\n",
    "    print(tabulate(np.around(matrix, decimals=decimals)))\n",
    "\n",
    "\n",
    "def print_svd(svd_result):\n",
    "    U, s, VT = svd_result\n",
    "    print(\"=== U ===\")\n",
    "    printf(U)\n",
    "    print(\"=== sigma ===\")\n",
    "    printf(np.diag(s))\n",
    "    print(\"=== V transpose ===\")\n",
    "    printf(VT)\n",
    "\n",
    "\n",
    "def product_svd(svd_result):\n",
    "    U, s, VT = svd_result\n",
    "    return np.dot(U, np.dot(np.diag(s), VT))"
   ]
  },
  {
   "cell_type": "code",
   "execution_count": 44,
   "metadata": {},
   "outputs": [
    {
     "name": "stdout",
     "output_type": "stream",
     "text": [
      "(30, 30)\n"
     ]
    },
    {
     "data": {
      "image/png": "[encoded data removed]",
      "text/plain": [
       "<Figure size 640x480 with 1 Axes>"
      ]
     },
     "metadata": {},
     "output_type": "display_data"
    }
   ],
   "source": [
    "image = to_gray(imread('images/watermelon.png'))\n",
    "image = cv2.resize(image, (30, 30), interpolation=0)\n",
    "print(image.shape)\n",
    "show(image)"
   ]
  },
  {
   "cell_type": "code",
   "execution_count": 55,
   "metadata": {},
   "outputs": [
    {
     "name": "stdout",
     "output_type": "stream",
     "text": [
      "=== U ===\n",
      "----  ----  ----  ----  ----  ----  ----  ----  ----  ----  ----  ----  ----  ----  ----  ----  ----  ----  ----  ----  ----  ----  ----  ----  ----  ----  ----  ----  ----  ----\n",
      "-0.2  -0.2  -0    -0.1  -0.2  -0.2   0    -0.1   0.1   0    -0.1  -0     0.1   0.2   0    -0.1   0.1  -0     0     0    -0     0     0     0     0    -0    -0     0    -0     0.9\n",
      "-0.2  -0.2  -0    -0.1  -0.2  -0.2   0    -0.1   0.1   0    -0.1  -0     0.1   0.2  -0.7   0.1   0.1   0     0    -0.1  -0.2   0.1  -0.2  -0    -0     0     0     0     0    -0.3\n",
      "-0.2  -0.3   0    -0.1   0.1   0.1   0.1   0.1  -0.4  -0.3   0.2   0.1   0    -0.1  -0    -0.6   0.3  -0.2   0     0.1  -0.1  -0.1  -0.1  -0    -0     0     0     0     0    -0.1\n",
      "-0.2  -0.3   0    -0.1   0.1   0.1   0.1   0.1  -0.4  -0.3   0.2   0.1   0    -0.1   0     0.6  -0.3   0.2  -0    -0.1   0.1   0.1   0.1   0     0    -0    -0    -0    -0     0.1\n",
      "-0.2  -0.2   0.1   0.2  -0.2   0.3  -0    -0     0.1  -0.1  -0.3   0.1  -0.4  -0     0     0    -0.2  -0.4  -0.3  -0.4   0.1  -0.1  -0.2  -0    -0     0     0     0     0     0\n",
      "-0.2  -0.2   0.1   0.2  -0.2   0.3  -0    -0     0.1  -0.1  -0.3   0.1  -0.4  -0    -0    -0     0.2   0.4   0.3   0.4  -0.1   0.1   0.2   0     0    -0    -0    -0    -0    -0\n",
      "-0.2   0     0.2   0.1  -0.3  -0.1  -0.2   0.3  -0     0.2   0.1  -0.2   0.1  -0.3  -0.1   0.1   0.4   0.1   0.1  -0.2   0.4  -0.4   0.1   0     0    -0    -0    -0    -0     0\n",
      "-0.2   0     0.2   0.1  -0.3  -0.1  -0.2   0.3  -0     0.2   0.1  -0.2   0.1  -0.3   0.1  -0.1  -0.4  -0.1  -0.1   0.2  -0.4   0.4  -0.1  -0    -0     0     0     0     0    -0\n",
      "-0.2   0.1   0.3   0.2   0.1  -0    -0.1  -0.3   0     0.1   0.2   0.4   0.2  -0     0.1   0.1  -0.2   0.2   0.2   0    -0.1  -0.4  -0.4  -0.1  -0.1   0     0     0     0     0\n",
      "-0.2   0.1   0.3   0.2   0.1  -0    -0.1  -0.3   0     0.1   0.2   0.4   0.2  -0    -0.1  -0.1   0.2  -0.2  -0.2  -0     0.1   0.4   0.4   0.1   0.1  -0    -0    -0    -0    -0\n",
      "-0.2   0.2   0.2  -0.1   0.1   0     0.3  -0.2   0.2  -0.2   0.2  -0.3  -0.1   0    -0.2  -0.2  -0.2   0.2  -0.5   0.2   0.1  -0.2   0     0     0    -0    -0    -0     0     0\n",
      "-0.2   0.2   0.2  -0.1   0.1   0     0.3  -0.2   0.2  -0.2   0.2  -0.3  -0.1   0     0.2   0.2   0.2  -0.2   0.5  -0.2  -0.1   0.2  -0    -0    -0     0     0     0    -0    -0\n",
      "-0.2   0.3   0.1  -0.2   0.2  -0    -0.1   0.4   0.1  -0.2  -0.3   0.1   0.1   0.2   0.1   0.4   0.4  -0.2  -0.3   0.3  -0.2  -0.1  -0.2  -0    -0     0     0     0     0    -0\n",
      "-0.2   0.3   0.1  -0.2   0.2  -0    -0.1   0.4   0.1  -0.2  -0.3   0.1   0.1   0.2  -0.1  -0.4  -0.4   0.2   0.3  -0.3   0.2   0.1   0.2   0     0    -0    -0    -0    -0     0\n",
      "-0.2   0.2  -0    -0.1   0.1   0.1  -0.1  -0.1  -0.4   0.3  -0.1  -0.2  -0.1   0.2  -0     0     0     0     0     0     0    -0    -0.1   0.6   0.2   0.3   0.1  -0    -0    -0\n",
      "-0.2   0.2  -0    -0.1   0.1   0.1  -0.1  -0.1  -0.4   0.3  -0.1  -0.2  -0.1   0.2   0     0    -0     0    -0    -0    -0     0     0.1  -0.6  -0.2  -0.3  -0.1   0     0    -0\n",
      "-0.1   0.3  -0.2   0    -0.2   0     0.5   0.1  -0     0.2   0     0.2   0    -0    -0    -0    -0     0    -0    -0    -0     0     0    -0.3   0.4   0.4   0.2  -0    -0    -0\n",
      "-0.1   0.3  -0.2   0    -0.2   0     0.5   0.1  -0     0.2   0     0.2   0    -0    -0    -0     0    -0     0     0    -0    -0    -0     0.3  -0.4  -0.4  -0.2   0     0    -0\n",
      "-0.1   0.1  -0.3   0.4  -0.1   0    -0.1   0.1   0    -0.2   0.2  -0.1   0.1   0.2   0     0    -0     0    -0     0     0     0     0.1  -0    -0.5   0.4   0.2  -0    -0    -0\n",
      "-0.1   0.1  -0.3   0.4  -0.1   0    -0.1   0.1   0    -0.2   0.2  -0.1   0.1   0.2   0     0    -0     0    -0    -0     0    -0    -0.1   0     0.5  -0.4  -0.2   0     0    -0\n",
      "-0.2  -0    -0.2  -0.1   0.1   0.4  -0    -0.1   0.2   0.1  -0.1  -0.1   0.3  -0.2  -0    -0     0    -0     0    -0    -0     0    -0     0     0    -0.3   0.6  -0    -0     0\n",
      "-0.2  -0    -0.2  -0.1   0.1   0.4  -0    -0.1   0.2   0.1  -0.1  -0.1   0.3  -0.2  -0    -0     0    -0     0     0    -0    -0     0    -0    -0     0.3  -0.6   0     0     0\n",
      "-0.2  -0.2  -0     0.1   0.3  -0     0.1   0.2   0.2   0.3   0.1   0    -0.2   0.2   0     0    -0     0     0     0     0    -0     0    -0     0     0     0     0     0.7  -0\n",
      "-0.2  -0.2  -0     0.1   0.3  -0     0.1   0.2   0.2   0.3   0.1   0    -0.2   0.2   0     0    -0     0     0     0     0     0    -0     0    -0    -0    -0    -0    -0.7  -0\n",
      "-0.2   0    -0.1   0.2   0.3  -0.4   0.1  -0.1  -0.1  -0.1  -0.3  -0.1   0    -0.3  -0    -0     0    -0     0     0    -0    -0    -0    -0    -0    -0     0     0.7  -0     0\n",
      "-0.2   0    -0.1   0.2   0.3  -0.4   0.1  -0.1  -0.1  -0.1  -0.3  -0.1   0    -0.3  -0    -0     0    -0     0     0    -0    -0    -0    -0    -0     0    -0    -0.7   0     0\n",
      "-0.2   0.1  -0.3  -0.3  -0    -0.1  -0.3  -0.1   0.1  -0     0.2   0.1  -0.3  -0.2   0     0    -0    -0    -0    -0.1  -0.5  -0.3   0.4   0.1   0.1  -0    -0    -0    -0    -0\n",
      "-0.2   0.1  -0.3  -0.3  -0    -0.1  -0.3  -0.1   0.1  -0     0.2   0.1  -0.3  -0.2  -0    -0     0     0     0     0.1   0.5   0.3  -0.4  -0.1  -0.1   0     0     0     0     0\n",
      "-0.2  -0.2  -0    -0.1  -0.2  -0.2   0    -0.1   0.1   0    -0.1  -0     0.1   0.2   0.2   0.1  -0.3  -0.4   0.2   0.4   0.2  -0.2   0.2   0.1   0    -0    -0    -0    -0    -0.3\n",
      "-0.2  -0.2  -0    -0.1  -0.2  -0.2   0    -0.1   0.1   0    -0.1  -0     0.1   0.2   0.6  -0.1   0.2   0.4  -0.2  -0.3   0     0.1  -0.1  -0    -0     0     0     0     0    -0.3\n",
      "----  ----  ----  ----  ----  ----  ----  ----  ----  ----  ----  ----  ----  ----  ----  ----  ----  ----  ----  ----  ----  ----  ----  ----  ----  ----  ----  ----  ----  ----\n",
      "=== sigma ===\n",
      "--  ---  ---  -  ---  ---  ---  -  ---  ---  ---  ---  ---  ---  -  -  -  -  -  -  -  -  -  -  -  -  -  -  -  -\n",
      "50  0    0    0  0    0    0    0  0    0    0    0    0    0    0  0  0  0  0  0  0  0  0  0  0  0  0  0  0  0\n",
      " 0  3.9  0    0  0    0    0    0  0    0    0    0    0    0    0  0  0  0  0  0  0  0  0  0  0  0  0  0  0  0\n",
      " 0  0    3.6  0  0    0    0    0  0    0    0    0    0    0    0  0  0  0  0  0  0  0  0  0  0  0  0  0  0  0\n",
      " 0  0    0    2  0    0    0    0  0    0    0    0    0    0    0  0  0  0  0  0  0  0  0  0  0  0  0  0  0  0\n",
      " 0  0    0    0  1.9  0    0    0  0    0    0    0    0    0    0  0  0  0  0  0  0  0  0  0  0  0  0  0  0  0\n",
      " 0  0    0    0  0    1.8  0    0  0    0    0    0    0    0    0  0  0  0  0  0  0  0  0  0  0  0  0  0  0  0\n",
      " 0  0    0    0  0    0    1.2  0  0    0    0    0    0    0    0  0  0  0  0  0  0  0  0  0  0  0  0  0  0  0\n",
      " 0  0    0    0  0    0    0    1  0    0    0    0    0    0    0  0  0  0  0  0  0  0  0  0  0  0  0  0  0  0\n",
      " 0  0    0    0  0    0    0    0  0.9  0    0    0    0    0    0  0  0  0  0  0  0  0  0  0  0  0  0  0  0  0\n",
      " 0  0    0    0  0    0    0    0  0    0.8  0    0    0    0    0  0  0  0  0  0  0  0  0  0  0  0  0  0  0  0\n",
      " 0  0    0    0  0    0    0    0  0    0    0.8  0    0    0    0  0  0  0  0  0  0  0  0  0  0  0  0  0  0  0\n",
      " 0  0    0    0  0    0    0    0  0    0    0    0.6  0    0    0  0  0  0  0  0  0  0  0  0  0  0  0  0  0  0\n",
      " 0  0    0    0  0    0    0    0  0    0    0    0    0.4  0    0  0  0  0  0  0  0  0  0  0  0  0  0  0  0  0\n",
      " 0  0    0    0  0    0    0    0  0    0    0    0    0    0.1  0  0  0  0  0  0  0  0  0  0  0  0  0  0  0  0\n",
      " 0  0    0    0  0    0    0    0  0    0    0    0    0    0    0  0  0  0  0  0  0  0  0  0  0  0  0  0  0  0\n",
      " 0  0    0    0  0    0    0    0  0    0    0    0    0    0    0  0  0  0  0  0  0  0  0  0  0  0  0  0  0  0\n",
      " 0  0    0    0  0    0    0    0  0    0    0    0    0    0    0  0  0  0  0  0  0  0  0  0  0  0  0  0  0  0\n",
      " 0  0    0    0  0    0    0    0  0    0    0    0    0    0    0  0  0  0  0  0  0  0  0  0  0  0  0  0  0  0\n",
      " 0  0    0    0  0    0    0    0  0    0    0    0    0    0    0  0  0  0  0  0  0  0  0  0  0  0  0  0  0  0\n",
      " 0  0    0    0  0    0    0    0  0    0    0    0    0    0    0  0  0  0  0  0  0  0  0  0  0  0  0  0  0  0\n",
      " 0  0    0    0  0    0    0    0  0    0    0    0    0    0    0  0  0  0  0  0  0  0  0  0  0  0  0  0  0  0\n",
      " 0  0    0    0  0    0    0    0  0    0    0    0    0    0    0  0  0  0  0  0  0  0  0  0  0  0  0  0  0  0\n",
      " 0  0    0    0  0    0    0    0  0    0    0    0    0    0    0  0  0  0  0  0  0  0  0  0  0  0  0  0  0  0\n",
      " 0  0    0    0  0    0    0    0  0    0    0    0    0    0    0  0  0  0  0  0  0  0  0  0  0  0  0  0  0  0\n",
      " 0  0    0    0  0    0    0    0  0    0    0    0    0    0    0  0  0  0  0  0  0  0  0  0  0  0  0  0  0  0\n",
      " 0  0    0    0  0    0    0    0  0    0    0    0    0    0    0  0  0  0  0  0  0  0  0  0  0  0  0  0  0  0\n",
      " 0  0    0    0  0    0    0    0  0    0    0    0    0    0    0  0  0  0  0  0  0  0  0  0  0  0  0  0  0  0\n",
      " 0  0    0    0  0    0    0    0  0    0    0    0    0    0    0  0  0  0  0  0  0  0  0  0  0  0  0  0  0  0\n",
      " 0  0    0    0  0    0    0    0  0    0    0    0    0    0    0  0  0  0  0  0  0  0  0  0  0  0  0  0  0  0\n",
      " 0  0    0    0  0    0    0    0  0    0    0    0    0    0    0  0  0  0  0  0  0  0  0  0  0  0  0  0  0  0\n",
      "--  ---  ---  -  ---  ---  ---  -  ---  ---  ---  ---  ---  ---  -  -  -  -  -  -  -  -  -  -  -  -  -  -  -  -\n",
      "=== V transpose ===\n",
      "----  ----  ----  ----  ----  ----  ----  ----  ----  ----  ----  ----  ----  ----  ----  ----  ----  ----  ----  ----  ----  ----  ----  ----  ----  ----  ----  ----  ----  ----\n",
      "-0.2  -0.2  -0.2  -0.2  -0.2  -0.2  -0.2  -0.2  -0.2  -0.2  -0.2  -0.2  -0.2  -0.2  -0.2  -0.2  -0.1  -0.1  -0.1  -0.1  -0.2  -0.2  -0.2  -0.2  -0.2  -0.2  -0.2  -0.2  -0.2  -0.2\n",
      " 0.2   0.2   0.2   0.2   0.2   0.2   0.1   0.1  -0.1  -0.1  -0.1  -0.1  -0.2  -0.2  -0.2  -0.2  -0.3  -0.3  -0.2  -0.2   0     0     0.2   0.2  -0.1  -0.1  -0.2  -0.2   0.2   0.2\n",
      "-0.1  -0.1  -0    -0     0.1   0.1   0.1   0.1   0.4   0.4   0.2   0.2   0.2   0.2   0.1   0.1  -0.1  -0.1  -0.3  -0.3  -0.2  -0.2  -0    -0    -0.1  -0.1  -0.3  -0.3  -0.1  -0.1\n",
      " 0.2   0.2   0.2   0.2  -0.3  -0.3  -0.2  -0.2  -0.1  -0.1   0.1   0.1   0.2   0.2   0.1   0.1   0     0    -0.4  -0.4   0     0    -0    -0    -0.1  -0.1   0.2   0.2   0.2   0.2\n",
      " 0.2   0.2  -0.1  -0.1  -0.1  -0.1   0.1   0.1   0.1   0.1  -0    -0    -0    -0    -0.2  -0.2  -0    -0    -0    -0    -0.5  -0.5  -0.1  -0.1   0.3   0.3   0.2   0.2   0.2   0.2\n",
      " 0.1   0.1  -0.1  -0.1   0.3   0.3   0.2   0.2  -0.1  -0.1  -0    -0    -0.1  -0.1  -0.1  -0.1   0.2   0.2   0     0    -0    -0    -0.4  -0.4  -0.4  -0.4   0.1   0.1   0.1   0.1\n",
      " 0.1   0.1   0     0     0.1   0.1  -0.4  -0.4   0.2   0.2   0.2   0.2  -0.4  -0.4   0.1   0.1   0.3   0.3  -0    -0    -0.1  -0.1  -0    -0     0.1   0.1  -0.1  -0.1   0.1   0.1\n",
      " 0.2   0.2  -0    -0    -0    -0    -0.1  -0.1   0.2   0.2  -0.2  -0.2  -0.1  -0.1   0.4   0.4  -0.3  -0.3   0     0     0.1   0.1  -0.3  -0.3   0.1   0.1  -0    -0     0.2   0.2\n",
      " 0.1   0.1  -0.4  -0.4  -0.1  -0.1   0     0     0.3   0.3   0.1   0.1  -0.1  -0.1  -0.2  -0.2  -0.1  -0.1  -0    -0     0.3   0.3   0.1   0.1  -0.1  -0.1   0.2   0.2   0.1   0.1\n",
      " 0.1   0.1  -0.4  -0.4   0.1   0.1   0.1   0.1  -0.3  -0.3  -0.1  -0.1   0.1   0.1   0.1   0.1   0.1   0.1  -0.2  -0.2   0.1   0.1   0.1   0.1   0.2   0.2  -0.2  -0.2   0.1   0.1\n",
      " 0.1   0.1  -0    -0     0     0    -0    -0    -0.2  -0.2   0.4   0.4   0     0    -0.2  -0.2  -0.2  -0.2   0.1   0.1   0.1   0.1  -0.3  -0.3   0.2   0.2  -0.1  -0.1   0.1   0.1\n",
      "-0.1  -0.1   0     0     0.3   0.3  -0.2  -0.2   0.2   0.2  -0.2  -0.2   0.2   0.2  -0.3  -0.3   0     0    -0.2  -0.2   0.1   0.1  -0.2  -0.2   0.2   0.2   0.1   0.1  -0.1  -0.1\n",
      " 0.2   0.2  -0.1  -0.1  -0.1  -0.1  -0.3  -0.3   0.1   0.1  -0.1  -0.1   0.3   0.3  -0.1  -0.1   0     0     0.3   0.3  -0.1  -0.1   0.1   0.1  -0.2  -0.2  -0.2  -0.2   0.2   0.2\n",
      " 0.1   0.1   0.1   0.1  -0.3  -0.3   0.2   0.2   0.1   0.1  -0.2  -0.2  -0    -0    -0.2  -0.2   0.2   0.2  -0    -0     0.2   0.2  -0.2  -0.2   0.1   0.1  -0.3  -0.3   0.1   0.1\n",
      " 0    -0.5  -0.4   0.4   0.3  -0.3  -0     0    -0.4   0.4  -0.1   0.1  -0     0     0    -0    -0    -0     0     0    -0    -0     0     0    -0    -0    -0    -0     0.2   0.2\n",
      " 0     0.4  -0.4   0.4  -0.2   0.2  -0.1   0.1  -0     0    -0.3   0.3   0.3  -0.3  -0     0    -0    -0    -0    -0    -0    -0     0     0    -0    -0     0     0    -0.2  -0.2\n",
      " 0    -0.4   0.3  -0.3  -0.4   0.4  -0.3   0.3  -0.2   0.2  -0.2   0.2   0.1  -0.1  -0     0     0     0    -0    -0     0     0    -0    -0     0     0     0     0     0.2   0.2\n",
      " 0    -0.4  -0.2   0.2  -0.1   0.1   0    -0     0.5  -0.5   0.1  -0.1   0.1  -0.1   0    -0     0    -0    -0    -0     0     0    -0    -0     0     0    -0    -0     0.2   0.2\n",
      " 0    -0    -0     0    -0.2   0.2   0.4  -0.4  -0.3   0.3   0.3  -0.3   0.3  -0.3  -0     0    -0     0     0     0    -0    -0     0     0    -0    -0    -0    -0    -0.1   0.1\n",
      " 0    -0     0.2  -0.2   0.4  -0.4  -0.3   0.3   0.1  -0.1   0.1  -0.1   0.5  -0.5   0    -0    -0     0     0    -0     0     0    -0    -0     0     0    -0    -0    -0     0.1\n",
      " 0     0.1  -0.2   0.2  -0.2   0.2  -0.4   0.4  -0.1   0.1   0.5  -0.5  -0.1   0.1   0    -0    -0     0     0    -0     0    -0    -0    -0     0     0     0     0    -0.1   0\n",
      " 0    -0    -0     0    -0     0    -0     0    -0     0     0.1  -0.1   0.1  -0.1   0    -0    -0     0     0    -0     0    -0    -0     0    -0    -0     0     0     0.7  -0.7\n",
      " 0     0     0    -0     0    -0     0    -0    -0     0    -0     0    -0     0     0.7  -0.7  -0     0     0    -0     0    -0     0    -0     0     0    -0    -0    -0     0\n",
      " 0    -0     0    -0     0    -0     0    -0     0    -0    -0     0    -0     0    -0     0     0.3  -0.3   0.6  -0.6  -0.2   0.2   0    -0    -0    -0     0     0    -0     0\n",
      " 0    -0    -0     0     0    -0     0    -0     0    -0     0    -0    -0     0    -0     0    -0.5   0.5   0.4  -0.4   0.3  -0.3  -0.1   0.1   0    -0     0     0     0    -0\n",
      " 0     0     0    -0    -0     0     0    -0    -0     0    -0     0     0    -0     0    -0     0.4  -0.4   0    -0     0.6  -0.6  -0.2   0.2   0    -0    -0    -0    -0     0\n",
      " 0     0    -0     0    -0     0    -0     0     0    -0     0    -0    -0     0    -0     0    -0     0     0    -0     0.2  -0.2   0.7  -0.7  -0     0    -0     0    -0    -0\n",
      " 0     0    -0     0     0     0    -0     0     0     0     0    -0     0    -0     0    -0     0    -0     0    -0     0     0    -0     0    -0.5   0.5  -0.5   0.5   0    -0\n",
      " 0    -0    -0     0    -0     0     0    -0     0    -0     0    -0     0    -0     0    -0    -0    -0    -0     0    -0     0    -0     0     0.5  -0.5  -0.5   0.5   0     0\n",
      "-0.9   0.3  -0    -0     0     0    -0    -0    -0    -0     0     0    -0    -0     0     0    -0    -0    -0    -0    -0    -0     0     0    -0    -0     0     0     0.3   0.3\n",
      "----  ----  ----  ----  ----  ----  ----  ----  ----  ----  ----  ----  ----  ----  ----  ----  ----  ----  ----  ----  ----  ----  ----  ----  ----  ----  ----  ----  ----  ----\n"
     ]
    },
    {
     "data": {
      "image/png": "[encoded data removed]",
      "text/plain": [
       "<Figure size 640x480 with 1 Axes>"
      ]
     },
     "metadata": {},
     "output_type": "display_data"
    }
   ],
   "source": [
    "u, s, v = svd(image)\n",
    "s[0] = 50\n",
    "print_svd((u,s,v))\n",
    "show(product_svd((u, s, v)))"
   ]
  },
  {
   "cell_type": "code",
   "execution_count": 99,
   "metadata": {},
   "outputs": [
    {
     "name": "stdout",
     "output_type": "stream",
     "text": [
      "(15, 15)\n"
     ]
    },
    {
     "data": {
      "image/png": "[encoded data removed]",
      "text/plain": [
       "<Figure size 640x480 with 1 Axes>"
      ]
     },
     "metadata": {},
     "output_type": "display_data"
    }
   ],
   "source": [
    "watermark = to_gray(imread('images/cs.png'))\n",
    "print(watermark.shape)\n",
    "show(watermark)"
   ]
  },
  {
   "cell_type": "code",
   "execution_count": 23,
   "metadata": {},
   "outputs": [
    {
     "name": "stdout",
     "output_type": "stream",
     "text": [
      "=== U ===\n",
      "----  ----  ----  ----  ----  ----  ----  ----  ----  ----  ----  ----  ----  ----  ----  ----  ----  ----  ----  ----  ----  ----  ----  ----  ----  ----  ----  ----  ----  ----\n",
      "-0.2  -0.2  -0    -0.1  -0.2  -0.2   0    -0.1   0.1   0    -0.1  -0     0.1   0.2   0    -0.1   0.1  -0     0     0    -0     0     0     0     0    -0    -0     0    -0     0.9\n",
      "-0.2  -0.2  -0    -0.1  -0.2  -0.2   0    -0.1   0.1   0    -0.1  -0     0.1   0.2  -0.7   0.1   0.1   0     0    -0.1  -0.2   0.1  -0.2  -0    -0     0     0     0     0    -0.3\n",
      "-0.2  -0.3   0    -0.1   0.1   0.1   0.1   0.1  -0.4  -0.3   0.2   0.1   0    -0.1  -0    -0.6   0.3  -0.2   0     0.1  -0.1  -0.1  -0.1  -0    -0     0     0     0     0    -0.1\n",
      "-0.2  -0.3   0    -0.1   0.1   0.1   0.1   0.1  -0.4  -0.3   0.2   0.1   0    -0.1   0     0.6  -0.3   0.2  -0    -0.1   0.1   0.1   0.1   0     0    -0    -0    -0    -0     0.1\n",
      "-0.2  -0.2   0.1   0.2  -0.2   0.3  -0    -0     0.1  -0.1  -0.3   0.1  -0.4  -0     0     0    -0.2  -0.4  -0.3  -0.4   0.1  -0.1  -0.2  -0    -0     0     0     0     0     0\n",
      "-0.2  -0.2   0.1   0.2  -0.2   0.3  -0    -0     0.1  -0.1  -0.3   0.1  -0.4  -0    -0    -0     0.2   0.4   0.3   0.4  -0.1   0.1   0.2   0     0    -0    -0    -0    -0    -0\n",
      "-0.2   0     0.2   0.1  -0.3  -0.1  -0.2   0.3  -0     0.2   0.1  -0.2   0.1  -0.3  -0.1   0.1   0.4   0.1   0.1  -0.2   0.4  -0.4   0.1   0     0    -0    -0    -0    -0     0\n",
      "-0.2   0     0.2   0.1  -0.3  -0.1  -0.2   0.3  -0     0.2   0.1  -0.2   0.1  -0.3   0.1  -0.1  -0.4  -0.1  -0.1   0.2  -0.4   0.4  -0.1  -0    -0     0     0     0     0    -0\n",
      "-0.2   0.1   0.3   0.2   0.1  -0    -0.1  -0.3   0     0.1   0.2   0.4   0.2  -0     0.1   0.1  -0.2   0.2   0.2   0    -0.1  -0.4  -0.4  -0.1  -0.1   0     0     0     0     0\n",
      "-0.2   0.1   0.3   0.2   0.1  -0    -0.1  -0.3   0     0.1   0.2   0.4   0.2  -0    -0.1  -0.1   0.2  -0.2  -0.2  -0     0.1   0.4   0.4   0.1   0.1  -0    -0    -0    -0    -0\n",
      "-0.2   0.2   0.2  -0.1   0.1   0     0.3  -0.2   0.2  -0.2   0.2  -0.3  -0.1   0    -0.2  -0.2  -0.2   0.2  -0.5   0.2   0.1  -0.2   0     0     0    -0    -0    -0     0     0\n",
      "-0.2   0.2   0.2  -0.1   0.1   0     0.3  -0.2   0.2  -0.2   0.2  -0.3  -0.1   0     0.2   0.2   0.2  -0.2   0.5  -0.2  -0.1   0.2  -0    -0    -0     0     0     0    -0    -0\n",
      "-0.2   0.3   0.1  -0.2   0.2  -0    -0.1   0.4   0.1  -0.2  -0.3   0.1   0.1   0.2   0.1   0.4   0.4  -0.2  -0.3   0.3  -0.2  -0.1  -0.2  -0    -0     0     0     0     0    -0\n",
      "-0.2   0.3   0.1  -0.2   0.2  -0    -0.1   0.4   0.1  -0.2  -0.3   0.1   0.1   0.2  -0.1  -0.4  -0.4   0.2   0.3  -0.3   0.2   0.1   0.2   0     0    -0    -0    -0    -0     0\n",
      "-0.2   0.2  -0    -0.1   0.1   0.1  -0.1  -0.1  -0.4   0.3  -0.1  -0.2  -0.1   0.2  -0     0     0     0     0     0     0    -0    -0.1   0.6   0.2   0.3   0.1  -0    -0    -0\n",
      "-0.2   0.2  -0    -0.1   0.1   0.1  -0.1  -0.1  -0.4   0.3  -0.1  -0.2  -0.1   0.2   0     0    -0     0    -0    -0    -0     0     0.1  -0.6  -0.2  -0.3  -0.1   0     0    -0\n",
      "-0.1   0.3  -0.2   0    -0.2   0     0.5   0.1  -0     0.2   0     0.2   0    -0    -0    -0    -0     0    -0    -0    -0     0     0    -0.3   0.4   0.4   0.2  -0    -0    -0\n",
      "-0.1   0.3  -0.2   0    -0.2   0     0.5   0.1  -0     0.2   0     0.2   0    -0    -0    -0     0    -0     0     0    -0    -0    -0     0.3  -0.4  -0.4  -0.2   0     0    -0\n",
      "-0.1   0.1  -0.3   0.4  -0.1   0    -0.1   0.1   0    -0.2   0.2  -0.1   0.1   0.2   0     0    -0     0    -0     0     0     0     0.1  -0    -0.5   0.4   0.2  -0    -0    -0\n",
      "-0.1   0.1  -0.3   0.4  -0.1   0    -0.1   0.1   0    -0.2   0.2  -0.1   0.1   0.2   0     0    -0     0    -0    -0     0    -0    -0.1   0     0.5  -0.4  -0.2   0     0    -0\n",
      "-0.2  -0    -0.2  -0.1   0.1   0.4  -0    -0.1   0.2   0.1  -0.1  -0.1   0.3  -0.2  -0    -0     0    -0     0    -0    -0     0    -0     0     0    -0.3   0.6  -0    -0     0\n",
      "-0.2  -0    -0.2  -0.1   0.1   0.4  -0    -0.1   0.2   0.1  -0.1  -0.1   0.3  -0.2  -0    -0     0    -0     0     0    -0    -0     0    -0    -0     0.3  -0.6   0     0     0\n",
      "-0.2  -0.2  -0     0.1   0.3  -0     0.1   0.2   0.2   0.3   0.1   0    -0.2   0.2   0     0    -0     0     0     0     0    -0     0    -0     0     0     0     0     0.7  -0\n",
      "-0.2  -0.2  -0     0.1   0.3  -0     0.1   0.2   0.2   0.3   0.1   0    -0.2   0.2   0     0    -0     0     0     0     0     0    -0     0    -0    -0    -0    -0    -0.7  -0\n",
      "-0.2   0    -0.1   0.2   0.3  -0.4   0.1  -0.1  -0.1  -0.1  -0.3  -0.1   0    -0.3  -0    -0     0    -0     0     0    -0    -0    -0    -0    -0    -0     0     0.7  -0     0\n",
      "-0.2   0    -0.1   0.2   0.3  -0.4   0.1  -0.1  -0.1  -0.1  -0.3  -0.1   0    -0.3  -0    -0     0    -0     0     0    -0    -0    -0    -0    -0     0    -0    -0.7   0     0\n",
      "-0.2   0.1  -0.3  -0.3  -0    -0.1  -0.3  -0.1   0.1  -0     0.2   0.1  -0.3  -0.2   0     0    -0    -0    -0    -0.1  -0.5  -0.3   0.4   0.1   0.1  -0    -0    -0    -0    -0\n",
      "-0.2   0.1  -0.3  -0.3  -0    -0.1  -0.3  -0.1   0.1  -0     0.2   0.1  -0.3  -0.2  -0    -0     0     0     0     0.1   0.5   0.3  -0.4  -0.1  -0.1   0     0     0     0     0\n",
      "-0.2  -0.2  -0    -0.1  -0.2  -0.2   0    -0.1   0.1   0    -0.1  -0     0.1   0.2   0.2   0.1  -0.3  -0.4   0.2   0.4   0.2  -0.2   0.2   0.1   0    -0    -0    -0    -0    -0.3\n",
      "-0.2  -0.2  -0    -0.1  -0.2  -0.2   0    -0.1   0.1   0    -0.1  -0     0.1   0.2   0.6  -0.1   0.2   0.4  -0.2  -0.3   0     0.1  -0.1  -0    -0     0     0     0     0    -0.3\n",
      "----  ----  ----  ----  ----  ----  ----  ----  ----  ----  ----  ----  ----  ----  ----  ----  ----  ----  ----  ----  ----  ----  ----  ----  ----  ----  ----  ----  ----  ----\n",
      "=== sigma ===\n",
      "----  ---  ---  -  ---  ---  ---  -  ---  ---  ---  ---  ---  ---  -  -  -  -  -  -  -  -  -  -  -  -  -  -  -  -\n",
      "23.5  0    0    0  0    0    0    0  0    0    0    0    0    0    0  0  0  0  0  0  0  0  0  0  0  0  0  0  0  0\n",
      " 0    3.9  0    0  0    0    0    0  0    0    0    0    0    0    0  0  0  0  0  0  0  0  0  0  0  0  0  0  0  0\n",
      " 0    0    3.6  0  0    0    0    0  0    0    0    0    0    0    0  0  0  0  0  0  0  0  0  0  0  0  0  0  0  0\n",
      " 0    0    0    2  0    0    0    0  0    0    0    0    0    0    0  0  0  0  0  0  0  0  0  0  0  0  0  0  0  0\n",
      " 0    0    0    0  1.9  0    0    0  0    0    0    0    0    0    0  0  0  0  0  0  0  0  0  0  0  0  0  0  0  0\n",
      " 0    0    0    0  0    1.8  0    0  0    0    0    0    0    0    0  0  0  0  0  0  0  0  0  0  0  0  0  0  0  0\n",
      " 0    0    0    0  0    0    1.2  0  0    0    0    0    0    0    0  0  0  0  0  0  0  0  0  0  0  0  0  0  0  0\n",
      " 0    0    0    0  0    0    0    1  0    0    0    0    0    0    0  0  0  0  0  0  0  0  0  0  0  0  0  0  0  0\n",
      " 0    0    0    0  0    0    0    0  0.9  0    0    0    0    0    0  0  0  0  0  0  0  0  0  0  0  0  0  0  0  0\n",
      " 0    0    0    0  0    0    0    0  0    0.8  0    0    0    0    0  0  0  0  0  0  0  0  0  0  0  0  0  0  0  0\n",
      " 0    0    0    0  0    0    0    0  0    0    0.8  0    0    0    0  0  0  0  0  0  0  0  0  0  0  0  0  0  0  0\n",
      " 0    0    0    0  0    0    0    0  0    0    0    0.6  0    0    0  0  0  0  0  0  0  0  0  0  0  0  0  0  0  0\n",
      " 0    0    0    0  0    0    0    0  0    0    0    0    0.4  0    0  0  0  0  0  0  0  0  0  0  0  0  0  0  0  0\n",
      " 0    0    0    0  0    0    0    0  0    0    0    0    0    0.1  0  0  0  0  0  0  0  0  0  0  0  0  0  0  0  0\n",
      " 0    0    0    0  0    0    0    0  0    0    0    0    0    0    0  0  0  0  0  0  0  0  0  0  0  0  0  0  0  0\n",
      " 0    0    0    0  0    0    0    0  0    0    0    0    0    0    0  0  0  0  0  0  0  0  0  0  0  0  0  0  0  0\n",
      " 0    0    0    0  0    0    0    0  0    0    0    0    0    0    0  0  0  0  0  0  0  0  0  0  0  0  0  0  0  0\n",
      " 0    0    0    0  0    0    0    0  0    0    0    0    0    0    0  0  0  0  0  0  0  0  0  0  0  0  0  0  0  0\n",
      " 0    0    0    0  0    0    0    0  0    0    0    0    0    0    0  0  0  0  0  0  0  0  0  0  0  0  0  0  0  0\n",
      " 0    0    0    0  0    0    0    0  0    0    0    0    0    0    0  0  0  0  0  0  0  0  0  0  0  0  0  0  0  0\n",
      " 0    0    0    0  0    0    0    0  0    0    0    0    0    0    0  0  0  0  0  0  0  0  0  0  0  0  0  0  0  0\n",
      " 0    0    0    0  0    0    0    0  0    0    0    0    0    0    0  0  0  0  0  0  0  0  0  0  0  0  0  0  0  0\n",
      " 0    0    0    0  0    0    0    0  0    0    0    0    0    0    0  0  0  0  0  0  0  0  0  0  0  0  0  0  0  0\n",
      " 0    0    0    0  0    0    0    0  0    0    0    0    0    0    0  0  0  0  0  0  0  0  0  0  0  0  0  0  0  0\n",
      " 0    0    0    0  0    0    0    0  0    0    0    0    0    0    0  0  0  0  0  0  0  0  0  0  0  0  0  0  0  0\n",
      " 0    0    0    0  0    0    0    0  0    0    0    0    0    0    0  0  0  0  0  0  0  0  0  0  0  0  0  0  0  0\n",
      " 0    0    0    0  0    0    0    0  0    0    0    0    0    0    0  0  0  0  0  0  0  0  0  0  0  0  0  0  0  0\n",
      " 0    0    0    0  0    0    0    0  0    0    0    0    0    0    0  0  0  0  0  0  0  0  0  0  0  0  0  0  0  0\n",
      " 0    0    0    0  0    0    0    0  0    0    0    0    0    0    0  0  0  0  0  0  0  0  0  0  0  0  0  0  0  0\n",
      " 0    0    0    0  0    0    0    0  0    0    0    0    0    0    0  0  0  0  0  0  0  0  0  0  0  0  0  0  0  0\n",
      "----  ---  ---  -  ---  ---  ---  -  ---  ---  ---  ---  ---  ---  -  -  -  -  -  -  -  -  -  -  -  -  -  -  -  -\n",
      "=== V transpose ===\n",
      "----  ----  ----  ----  ----  ----  ----  ----  ----  ----  ----  ----  ----  ----  ----  ----  ----  ----  ----  ----  ----  ----  ----  ----  ----  ----  ----  ----  ----  ----\n",
      "-0.2  -0.2  -0.2  -0.2  -0.2  -0.2  -0.2  -0.2  -0.2  -0.2  -0.2  -0.2  -0.2  -0.2  -0.2  -0.2  -0.1  -0.1  -0.1  -0.1  -0.2  -0.2  -0.2  -0.2  -0.2  -0.2  -0.2  -0.2  -0.2  -0.2\n",
      " 0.2   0.2   0.2   0.2   0.2   0.2   0.1   0.1  -0.1  -0.1  -0.1  -0.1  -0.2  -0.2  -0.2  -0.2  -0.3  -0.3  -0.2  -0.2   0     0     0.2   0.2  -0.1  -0.1  -0.2  -0.2   0.2   0.2\n",
      "-0.1  -0.1  -0    -0     0.1   0.1   0.1   0.1   0.4   0.4   0.2   0.2   0.2   0.2   0.1   0.1  -0.1  -0.1  -0.3  -0.3  -0.2  -0.2  -0    -0    -0.1  -0.1  -0.3  -0.3  -0.1  -0.1\n",
      " 0.2   0.2   0.2   0.2  -0.3  -0.3  -0.2  -0.2  -0.1  -0.1   0.1   0.1   0.2   0.2   0.1   0.1   0     0    -0.4  -0.4   0     0    -0    -0    -0.1  -0.1   0.2   0.2   0.2   0.2\n",
      " 0.2   0.2  -0.1  -0.1  -0.1  -0.1   0.1   0.1   0.1   0.1  -0    -0    -0    -0    -0.2  -0.2  -0    -0    -0    -0    -0.5  -0.5  -0.1  -0.1   0.3   0.3   0.2   0.2   0.2   0.2\n",
      " 0.1   0.1  -0.1  -0.1   0.3   0.3   0.2   0.2  -0.1  -0.1  -0    -0    -0.1  -0.1  -0.1  -0.1   0.2   0.2   0     0    -0    -0    -0.4  -0.4  -0.4  -0.4   0.1   0.1   0.1   0.1\n",
      " 0.1   0.1   0     0     0.1   0.1  -0.4  -0.4   0.2   0.2   0.2   0.2  -0.4  -0.4   0.1   0.1   0.3   0.3  -0    -0    -0.1  -0.1  -0    -0     0.1   0.1  -0.1  -0.1   0.1   0.1\n",
      " 0.2   0.2  -0    -0    -0    -0    -0.1  -0.1   0.2   0.2  -0.2  -0.2  -0.1  -0.1   0.4   0.4  -0.3  -0.3   0     0     0.1   0.1  -0.3  -0.3   0.1   0.1  -0    -0     0.2   0.2\n",
      " 0.1   0.1  -0.4  -0.4  -0.1  -0.1   0     0     0.3   0.3   0.1   0.1  -0.1  -0.1  -0.2  -0.2  -0.1  -0.1  -0    -0     0.3   0.3   0.1   0.1  -0.1  -0.1   0.2   0.2   0.1   0.1\n",
      " 0.1   0.1  -0.4  -0.4   0.1   0.1   0.1   0.1  -0.3  -0.3  -0.1  -0.1   0.1   0.1   0.1   0.1   0.1   0.1  -0.2  -0.2   0.1   0.1   0.1   0.1   0.2   0.2  -0.2  -0.2   0.1   0.1\n",
      " 0.1   0.1  -0    -0     0     0    -0    -0    -0.2  -0.2   0.4   0.4   0     0    -0.2  -0.2  -0.2  -0.2   0.1   0.1   0.1   0.1  -0.3  -0.3   0.2   0.2  -0.1  -0.1   0.1   0.1\n",
      "-0.1  -0.1   0     0     0.3   0.3  -0.2  -0.2   0.2   0.2  -0.2  -0.2   0.2   0.2  -0.3  -0.3   0     0    -0.2  -0.2   0.1   0.1  -0.2  -0.2   0.2   0.2   0.1   0.1  -0.1  -0.1\n",
      " 0.2   0.2  -0.1  -0.1  -0.1  -0.1  -0.3  -0.3   0.1   0.1  -0.1  -0.1   0.3   0.3  -0.1  -0.1   0     0     0.3   0.3  -0.1  -0.1   0.1   0.1  -0.2  -0.2  -0.2  -0.2   0.2   0.2\n",
      " 0.1   0.1   0.1   0.1  -0.3  -0.3   0.2   0.2   0.1   0.1  -0.2  -0.2  -0    -0    -0.2  -0.2   0.2   0.2  -0    -0     0.2   0.2  -0.2  -0.2   0.1   0.1  -0.3  -0.3   0.1   0.1\n",
      " 0    -0.5  -0.4   0.4   0.3  -0.3  -0     0    -0.4   0.4  -0.1   0.1  -0     0     0    -0    -0    -0     0     0    -0    -0     0     0    -0    -0    -0    -0     0.2   0.2\n",
      " 0     0.4  -0.4   0.4  -0.2   0.2  -0.1   0.1  -0     0    -0.3   0.3   0.3  -0.3  -0     0    -0    -0    -0    -0    -0    -0     0     0    -0    -0     0     0    -0.2  -0.2\n",
      " 0    -0.4   0.3  -0.3  -0.4   0.4  -0.3   0.3  -0.2   0.2  -0.2   0.2   0.1  -0.1  -0     0     0     0    -0    -0     0     0    -0    -0     0     0     0     0     0.2   0.2\n",
      " 0    -0.4  -0.2   0.2  -0.1   0.1   0    -0     0.5  -0.5   0.1  -0.1   0.1  -0.1   0    -0     0    -0    -0    -0     0     0    -0    -0     0     0    -0    -0     0.2   0.2\n",
      " 0    -0    -0     0    -0.2   0.2   0.4  -0.4  -0.3   0.3   0.3  -0.3   0.3  -0.3  -0     0    -0     0     0     0    -0    -0     0     0    -0    -0    -0    -0    -0.1   0.1\n",
      " 0    -0     0.2  -0.2   0.4  -0.4  -0.3   0.3   0.1  -0.1   0.1  -0.1   0.5  -0.5   0    -0    -0     0     0    -0     0     0    -0    -0     0     0    -0    -0    -0     0.1\n",
      " 0     0.1  -0.2   0.2  -0.2   0.2  -0.4   0.4  -0.1   0.1   0.5  -0.5  -0.1   0.1   0    -0    -0     0     0    -0     0    -0    -0    -0     0     0     0     0    -0.1   0\n",
      " 0    -0    -0     0    -0     0    -0     0    -0     0     0.1  -0.1   0.1  -0.1   0    -0    -0     0     0    -0     0    -0    -0     0    -0    -0     0     0     0.7  -0.7\n",
      " 0     0     0    -0     0    -0     0    -0    -0     0    -0     0    -0     0     0.7  -0.7  -0     0     0    -0     0    -0     0    -0     0     0    -0    -0    -0     0\n",
      " 0    -0     0    -0     0    -0     0    -0     0    -0    -0     0    -0     0    -0     0     0.3  -0.3   0.6  -0.6  -0.2   0.2   0    -0    -0    -0     0     0    -0     0\n",
      " 0    -0    -0     0     0    -0     0    -0     0    -0     0    -0    -0     0    -0     0    -0.5   0.5   0.4  -0.4   0.3  -0.3  -0.1   0.1   0    -0     0     0     0    -0\n",
      " 0     0     0    -0    -0     0     0    -0    -0     0    -0     0     0    -0     0    -0     0.4  -0.4   0    -0     0.6  -0.6  -0.2   0.2   0    -0    -0    -0    -0     0\n",
      " 0     0    -0     0    -0     0    -0     0     0    -0     0    -0    -0     0    -0     0    -0     0     0    -0     0.2  -0.2   0.7  -0.7  -0     0    -0     0    -0    -0\n",
      " 0     0    -0     0     0     0    -0     0     0     0     0    -0     0    -0     0    -0     0    -0     0    -0     0     0    -0     0    -0.5   0.5  -0.5   0.5   0    -0\n",
      " 0    -0    -0     0    -0     0     0    -0     0    -0     0    -0     0    -0     0    -0    -0    -0    -0     0    -0     0    -0     0     0.5  -0.5  -0.5   0.5   0     0\n",
      "-0.9   0.3  -0    -0     0     0    -0    -0    -0    -0     0     0    -0    -0     0     0    -0    -0    -0    -0    -0    -0     0     0    -0    -0     0     0     0.3   0.3\n",
      "----  ----  ----  ----  ----  ----  ----  ----  ----  ----  ----  ----  ----  ----  ----  ----  ----  ----  ----  ----  ----  ----  ----  ----  ----  ----  ----  ----  ----  ----\n"
     ]
    }
   ],
   "source": [
    "print_svd(svd(image))"
   ]
  },
  {
   "cell_type": "code",
   "execution_count": 81,
   "metadata": {},
   "outputs": [],
   "source": [
    "def embed(image, watermark):\n",
    "    U_img, s_img, VT_img = svd(image)\n",
    "    U_wm, s_wm, VT_wm = svd(watermark)\n",
    "    U_img[15:, 15:] = U_wm\n",
    "    s_img[15:] = s_wm\n",
    "    VT_img[15:, 15:] = VT_wm\n",
    "    return U_img, s_img, VT_img\n",
    "    "
   ]
  },
  {
   "cell_type": "code",
   "execution_count": 82,
   "metadata": {},
   "outputs": [
    {
     "data": {
      "image/png": "[encoded data removed]",
      "text/plain": [
       "<Figure size 640x480 with 1 Axes>"
      ]
     },
     "metadata": {},
     "output_type": "display_data"
    },
    {
     "data": {
      "image/png": "[encoded data removed]",
      "text/plain": [
       "<Figure size 640x480 with 1 Axes>"
      ]
     },
     "metadata": {},
     "output_type": "display_data"
    }
   ],
   "source": [
    "new_image = product_svd(embed(image, watermark))\n",
    "uu, ss, vv = svd(new_image)\n",
    "test = product_svd((uu[15:, 15:], ss[15:] , vv[15:, 15:]))\n",
    "show(new_image)\n",
    "show(test)"
   ]
  },
  {
   "cell_type": "code",
   "execution_count": 132,
   "metadata": {},
   "outputs": [
    {
     "data": {
      "image/png": "[encoded data removed]",
      "text/plain": [
       "<Figure size 640x480 with 1 Axes>"
      ]
     },
     "metadata": {},
     "output_type": "display_data"
    },
    {
     "name": "stdout",
     "output_type": "stream",
     "text": [
      "-  -\n",
      "0  1\n",
      "2  3\n",
      "-  -\n",
      "=== U ===\n",
      "----  ----\n",
      "-0.2  -1\n",
      "-1     0.2\n",
      "----  ----\n",
      "=== sigma ===\n",
      "---  ---\n",
      "3.7  0\n",
      "0    0.5\n",
      "---  ---\n",
      "=== V transpose ===\n",
      "----  ----\n",
      "-0.5  -0.9\n",
      " 0.9  -0.5\n",
      "----  ----\n"
     ]
    },
    {
     "data": {
      "image/png": "[encoded data removed]",
      "text/plain": [
       "<Figure size 640x480 with 1 Axes>"
      ]
     },
     "metadata": {},
     "output_type": "display_data"
    },
    {
     "name": "stdout",
     "output_type": "stream",
     "text": [
      "-  -\n",
      "0  1\n",
      "2  1\n",
      "-  -\n",
      "=== U ===\n",
      "----  ----\n",
      "-0.2  -1\n",
      "-1     0.2\n",
      "----  ----\n",
      "=== sigma ===\n",
      "---  ---\n",
      "2.3  0\n",
      "0    0.9\n",
      "---  ---\n",
      "=== V transpose ===\n",
      "----  ----\n",
      "-0.9  -0.5\n",
      " 0.5  -0.9\n",
      "----  ----\n",
      "-  -  -  -\n",
      "0  0  1  1\n",
      "0  0  1  1\n",
      "2  2  3  3\n",
      "2  2  3  3\n",
      "-  -  -  -\n",
      "-  -  -  -\n",
      "0  0  1  1\n",
      "0  0  1  1\n",
      "2  2  1  1\n",
      "2  2  1  1\n",
      "-  -  -  -\n"
     ]
    }
   ],
   "source": [
    "A = np.array([[0., 1.], [2., 3.]])\n",
    "B = np.array([[0., 1.], [2., 1.]])\n",
    "show(A)\n",
    "printf(A)\n",
    "print_svd(svd(A))\n",
    "show(B)\n",
    "printf(B)\n",
    "print_svd(svd(B))\n",
    "A2x = cv2.resize(A, (4, 4), interpolation=0)\n",
    "B2x = cv2.resize(B, (4, 4), interpolation=0)\n",
    "printf(A2x)\n",
    "printf(B2x)"
   ]
  },
  {
   "cell_type": "code",
   "execution_count": 133,
   "metadata": {},
   "outputs": [],
   "source": [
    "A2x[:, 1] += 0.1 * B2x[:, 1]\n",
    "A2x[:, 3] += 0.1 * B2x[:, 3]"
   ]
  },
  {
   "cell_type": "code",
   "execution_count": 134,
   "metadata": {},
   "outputs": [
    {
     "data": {
      "text/plain": [
       "array([[0. , 0. , 1. , 1.1],\n",
       "       [0. , 0. , 1. , 1.1],\n",
       "       [2. , 2.2, 3. , 3.1],\n",
       "       [2. , 2.2, 3. , 3.1]])"
      ]
     },
     "execution_count": 134,
     "metadata": {},
     "output_type": "execute_result"
    }
   ],
   "source": [
    "A2x"
   ]
  },
  {
   "cell_type": "code",
   "execution_count": 113,
   "metadata": {},
   "outputs": [
    {
     "name": "stdout",
     "output_type": "stream",
     "text": [
      "=== U ===\n",
      "----  ----  ----  ----\n",
      "-0.2  -0.7  -0.2  -0.7\n",
      "-0.2  -0.7  -0.2  -0.7\n",
      "-0.7   0.2  -0.7   0.2\n",
      "-0.7   0.2  -0.7   0.2\n",
      "----  ----  ----  ----\n",
      "=== sigma ===\n",
      "---  ---  ---  ---\n",
      "7.4  0    0    0\n",
      "0    1.1  0    0\n",
      "0    0    4.6  0\n",
      "0    0    0    1.7\n",
      "---  ---  ---  ---\n",
      "=== V transpose ===\n",
      "----  ----  ----  ----\n",
      "-0.4  -0.4  -0.6  -0.6\n",
      " 0.6   0.6  -0.4  -0.4\n",
      "-0.6  -0.6  -0.4  -0.4\n",
      " 0.4   0.4  -0.6  -0.6\n",
      "----  ----  ----  ----\n"
     ]
    }
   ],
   "source": [
    "ua, sa, va = svd(A2x)\n",
    "ub, sb, vb = svd(B2x)\n",
    "\n",
    "ua[:, 2:] = ub[:, :2]\n",
    "sa[2:] = sb[:2]\n",
    "va[2:] = vb[:2]\n",
    "\n",
    "print_svd((ua, sa, va))"
   ]
  },
  {
   "cell_type": "code",
   "execution_count": null,
   "metadata": {},
   "outputs": [],
   "source": []
  },
  {
   "cell_type": "code",
   "execution_count": 112,
   "metadata": {},
   "outputs": [
    {
     "data": {
      "image/png": "[encoded data removed]",
      "text/plain": [
       "<Figure size 640x480 with 1 Axes>"
      ]
     },
     "metadata": {},
     "output_type": "display_data"
    },
    {
     "name": "stdout",
     "output_type": "stream",
     "text": [
      "--  --  -  -\n",
      "-0  -0  2  2\n",
      " 0  -0  2  2\n",
      " 4   4  4  4\n",
      " 4   4  4  4\n",
      "--  --  -  -\n",
      "=== U ===\n",
      "---  ----  ----  ----\n",
      "0.2  -0.7  -0.7  -0\n",
      "0.2  -0.7   0.7   0\n",
      "0.7   0.2  -0    -0.7\n",
      "0.7   0.2  -0     0.7\n",
      "---  ----  ----  ----\n",
      "=== sigma ===\n",
      "----  ---  -  -\n",
      "11.7  0    0  0\n",
      " 0    2.7  0  0\n",
      " 0    0    0  0\n",
      " 0    0    0  0\n",
      "----  ---  -  -\n",
      "=== V transpose ===\n",
      "---  ----  ----  ----\n",
      "0.5   0.5   0.5   0.5\n",
      "0.5   0.5  -0.5  -0.5\n",
      "0.4  -0.4   0.6  -0.6\n",
      "0.6  -0.6  -0.4   0.4\n",
      "---  ----  ----  ----\n"
     ]
    }
   ],
   "source": [
    "new_image = product_svd((ua, sa, va))\n",
    "show(new_image)\n",
    "printf(new_image)\n",
    "print_svd(svd(new_image))"
   ]
  }
 ],
 "metadata": {
  "kernelspec": {
   "display_name": "Python 3",
   "language": "python",
   "name": "python3"
  },
  "language_info": {
   "codemirror_mode": {
    "name": "ipython",
    "version": 3
   },
   "file_extension": ".py",
   "mimetype": "text/x-python",
   "name": "python",
   "nbconvert_exporter": "python",
   "pygments_lexer": "ipython3",
   "version": "3.12.2"
  }
 },
 "nbformat": 4,
 "nbformat_minor": 2
}

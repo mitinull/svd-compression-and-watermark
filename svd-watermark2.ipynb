{
 "cells": [
  {
   "cell_type": "code",
   "execution_count": 1,
   "metadata": {},
   "outputs": [],
   "source": [
    "import cv2\n",
    "import numpy as np\n",
    "import matplotlib.pyplot as plt\n",
    "from matplotlib.image import imread\n",
    "from tabulate import tabulate\n",
    "from scipy.linalg import svd"
   ]
  },
  {
   "cell_type": "code",
   "execution_count": 2,
   "metadata": {},
   "outputs": [],
   "source": [
    "def show(image):\n",
    "    \"\"\"Show an image\"\"\"\n",
    "    img = plt.imshow(image)\n",
    "    img.set_cmap(\"gray\")\n",
    "    plt.axis(\"off\")\n",
    "    plt.show()\n",
    "\n",
    "\n",
    "def to_gray(image):\n",
    "    \"\"\"Convert a four channel image to gray\"\"\"\n",
    "    return cv2.cvtColor(image, cv2.COLOR_RGBA2GRAY)\n",
    "\n",
    "\n",
    "def printf(matrix, decimals=1):\n",
    "    \"\"\"Print a formatted matrix\"\"\"\n",
    "    print(tabulate(np.around(matrix, decimals=decimals)))\n",
    "\n",
    "\n",
    "def print_svd(svd_result):\n",
    "    U, s, VT = svd_result\n",
    "    print(\"=== U ===\")\n",
    "    printf(U)\n",
    "    print(\"=== sigma ===\")\n",
    "    printf(np.diag(s))\n",
    "    print(\"=== V transpose ===\")\n",
    "    printf(VT)\n",
    "\n",
    "\n",
    "def product_svd(svd_result):\n",
    "    U, s, VT = svd_result\n",
    "    return np.dot(U, np.dot(np.diag(s), VT))"
   ]
  },
  {
   "cell_type": "code",
   "execution_count": 3,
   "metadata": {},
   "outputs": [
    {
     "name": "stdout",
     "output_type": "stream",
     "text": [
      "(30, 30)\n"
     ]
    },
    {
     "data": {
      "image/png": "[encoded data removed]",
      "text/plain": [
       "<Figure size 640x480 with 1 Axes>"
      ]
     },
     "metadata": {},
     "output_type": "display_data"
    }
   ],
   "source": [
    "image = to_gray(imread('images/watermelon.png'))\n",
    "image = cv2.resize(image, (30, 30), interpolation=0)\n",
    "print(image.shape)\n",
    "show(image)"
   ]
  },
  {
   "cell_type": "markdown",
   "metadata": {},
   "source": [
    "## Resources\n",
    "* https://www.researchgate.net/publication/339224683_Digital_Image_Watermarking_using_Singular_Value_Decomposition\n",
    "* https://www.ijcaonline.org/ecot/number1/SPE134T.pdf"
   ]
  }
 ],
 "metadata": {
  "kernelspec": {
   "display_name": "Python 3",
   "language": "python",
   "name": "python3"
  },
  "language_info": {
   "codemirror_mode": {
    "name": "ipython",
    "version": 3
   },
   "file_extension": ".py",
   "mimetype": "text/x-python",
   "name": "python",
   "nbconvert_exporter": "python",
   "pygments_lexer": "ipython3",
   "version": "3.12.2"
  }
 },
 "nbformat": 4,
 "nbformat_minor": 2
}
